{
  "nbformat": 4,
  "nbformat_minor": 0,
  "metadata": {
    "colab": {
      "name": "Dynamic_Programming.ipynb",
      "version": "0.3.2",
      "provenance": []
    },
    "kernelspec": {
      "display_name": "Python 3",
      "language": "python",
      "name": "python3"
    }
  },
  "cells": [
    {
      "metadata": {
        "id": "MuX3-IdNbRCV",
        "colab_type": "text"
      },
      "cell_type": "markdown",
      "source": [
        "# Dynamic Programming\n",
        "\n",
        "In this notebook, you will write your own implementations of many classical dynamic programming algorithms.  \n",
        "\n",
        "While we have provided some starter code, you are welcome to erase these hints and write your code from scratch.\n",
        "\n",
        "---\n",
        "\n",
        "### Part 0: Explore FrozenLakeEnv\n",
        "\n",
        "We begin by importing the necessary packages."
      ]
    },
    {
      "metadata": {
        "id": "2ZOPmL1AbRCX",
        "colab_type": "code",
        "colab": {
          "base_uri": "https://localhost:8080/",
          "height": 51
        },
        "outputId": "0bb979b8-5469-4610-fcba-83266f051df2"
      },
      "cell_type": "code",
      "source": [
        "%cd deep-reinforcement-learning/dynamic-programming\n",
        "import numpy as np\n",
        "import copy\n",
        "\n",
        "import check_test\n",
        "from frozenlake import FrozenLakeEnv\n",
        "from plot_utils import plot_values"
      ],
      "execution_count": 1,
      "outputs": [
        {
          "output_type": "stream",
          "text": [
            "/content/deep-reinforcement-learning/dynamic-programming\n"
          ],
          "name": "stdout"
        }
      ]
    },
    {
      "metadata": {
        "id": "ibhraZm2bRCe",
        "colab_type": "text"
      },
      "cell_type": "markdown",
      "source": [
        "Use the code cell below to create an instance of the [FrozenLake](https://github.com/openai/gym/blob/master/gym/envs/toy_text/frozen_lake.py) environment."
      ]
    },
    {
      "metadata": {
        "id": "7_4FA4cTbRCf",
        "colab_type": "code",
        "colab": {}
      },
      "cell_type": "code",
      "source": [
        "env = FrozenLakeEnv()"
      ],
      "execution_count": 0,
      "outputs": []
    },
    {
      "metadata": {
        "id": "PfygynIDbRCi",
        "colab_type": "text"
      },
      "cell_type": "markdown",
      "source": [
        "The agent moves through a $4 \\times 4$ gridworld, with states numbered as follows:\n",
        "```\n",
        "[[ 0  1  2  3]\n",
        " [ 4  5  6  7]\n",
        " [ 8  9 10 11]\n",
        " [12 13 14 15]]\n",
        "```\n",
        "and the agent has 4 potential actions:\n",
        "```\n",
        "LEFT = 0\n",
        "DOWN = 1\n",
        "RIGHT = 2\n",
        "UP = 3\n",
        "```\n",
        "\n",
        "Thus, $\\mathcal{S}^+ = \\{0, 1, \\ldots, 15\\}$, and $\\mathcal{A} = \\{0, 1, 2, 3\\}$.  Verify this by running the code cell below."
      ]
    },
    {
      "metadata": {
        "id": "ZWv0pK8kbRCj",
        "colab_type": "code",
        "colab": {
          "base_uri": "https://localhost:8080/",
          "height": 102
        },
        "outputId": "54e41ca6-ea64-4cec-aadd-0d31abccd404"
      },
      "cell_type": "code",
      "source": [
        "# print the state space and action space\n",
        "print(env.observation_space)\n",
        "print(env.action_space)\n",
        "\n",
        "# print the total number of states and actions\n",
        "print(env.nS)\n",
        "print(env.nA)"
      ],
      "execution_count": 3,
      "outputs": [
        {
          "output_type": "stream",
          "text": [
            "Discrete(16)\n",
            "Discrete(4)\n",
            "16\n",
            "4\n"
          ],
          "name": "stdout"
        }
      ]
    },
    {
      "metadata": {
        "id": "ZqcIwaZbbRCl",
        "colab_type": "text"
      },
      "cell_type": "markdown",
      "source": [
        "Dynamic programming assumes that the agent has full knowledge of the MDP.  We have already amended the `frozenlake.py` file to make the one-step dynamics accessible to the agent.  \n",
        "\n",
        "Execute the code cell below to return the one-step dynamics corresponding to a particular state and action.  In particular, `env.P[1][0]` returns the the probability of each possible reward and next state, if the agent is in state 1 of the gridworld and decides to go left."
      ]
    },
    {
      "metadata": {
        "id": "DBS6H40ObRCm",
        "colab_type": "code",
        "colab": {
          "base_uri": "https://localhost:8080/",
          "height": 85
        },
        "outputId": "2009717d-4cee-4874-a1fa-f3decd21be16"
      },
      "cell_type": "code",
      "source": [
        "env.P[1][0]"
      ],
      "execution_count": 4,
      "outputs": [
        {
          "output_type": "execute_result",
          "data": {
            "text/plain": [
              "[(0.3333333333333333, 1, 0.0, False),\n",
              " (0.3333333333333333, 0, 0.0, False),\n",
              " (0.3333333333333333, 5, 0.0, True)]"
            ]
          },
          "metadata": {
            "tags": []
          },
          "execution_count": 4
        }
      ]
    },
    {
      "metadata": {
        "id": "PyXsik6dbRCo",
        "colab_type": "text"
      },
      "cell_type": "markdown",
      "source": [
        "Each entry takes the form \n",
        "```\n",
        "prob, next_state, reward, done\n",
        "```\n",
        "where: \n",
        "- `prob` details the conditional probability of the corresponding (`next_state`, `reward`) pair, and\n",
        "- `done` is `True` if the `next_state` is a terminal state, and otherwise `False`.\n",
        "\n",
        "Thus, we can interpret `env.P[1][0]` as follows:\n",
        "$$\n",
        "\\mathbb{P}(S_{t+1}=s',R_{t+1}=r|S_t=1,A_t=0) = \\begin{cases}\n",
        "               \\frac{1}{3} \\text{ if } s'=1, r=0\\\\\n",
        "               \\frac{1}{3} \\text{ if } s'=0, r=0\\\\\n",
        "               \\frac{1}{3} \\text{ if } s'=5, r=0\\\\\n",
        "               0 \\text{ else}\n",
        "            \\end{cases}\n",
        "$$\n",
        "\n",
        "To understand the value of `env.P[1][0]`, note that when you create a FrozenLake environment, it takes as an (optional) argument `is_slippery`, which defaults to `True`.  \n",
        "\n",
        "To see this, change the first line in the notebook from `env = FrozenLakeEnv()` to `env = FrozenLakeEnv(is_slippery=False)`.  Then, when you check `env.P[1][0]`, it should look like what you expect (i.e., `env.P[1][0] = [(1.0, 0, 0.0, False)]`).\n",
        "\n",
        "The default value for the `is_slippery` argument is `True`, and so `env = FrozenLakeEnv()` is equivalent to `env = FrozenLakeEnv(is_slippery=True)`.  In the event that `is_slippery=True`, you see that this can result in the agent moving in a direction that it did not intend (where the idea is that the ground is *slippery*, and so the agent can slide to a location other than the one it wanted).\n",
        "\n",
        "Feel free to change the code cell above to explore how the environment behaves in response to other (state, action) pairs.  \n",
        "\n",
        "Before proceeding to the next part, make sure that you set `is_slippery=True`, so that your implementations below will work with the slippery environment!"
      ]
    },
    {
      "metadata": {
        "id": "NqO_GIRRbRCo",
        "colab_type": "text"
      },
      "cell_type": "markdown",
      "source": [
        "### Part 1: Iterative Policy Evaluation\n",
        "\n",
        "In this section, you will write your own implementation of iterative policy evaluation.\n",
        "\n",
        "Your algorithm should accept four arguments as **input**:\n",
        "- `env`: This is an instance of an OpenAI Gym environment, where `env.P` returns the one-step dynamics.\n",
        "- `policy`: This is a 2D numpy array with `policy.shape[0]` equal to the number of states (`env.nS`), and `policy.shape[1]` equal to the number of actions (`env.nA`).  `policy[s][a]` returns the probability that the agent takes action `a` while in state `s` under the policy.\n",
        "- `gamma`: This is the discount rate.  It must be a value between 0 and 1, inclusive (default value: `1`).\n",
        "- `theta`: This is a very small positive number that is used to decide if the estimate has sufficiently converged to the true value function (default value: `1e-8`).\n",
        "\n",
        "The algorithm returns as **output**:\n",
        "- `V`: This is a 1D numpy array with `V.shape[0]` equal to the number of states (`env.nS`).  `V[s]` contains the estimated value of state `s` under the input policy.\n",
        "\n",
        "Please complete the function in the code cell below."
      ]
    },
    {
      "metadata": {
        "id": "cWv78q6PbRCp",
        "colab_type": "code",
        "colab": {}
      },
      "cell_type": "code",
      "source": [
        "def policy_evaluation(env, policy, gamma=1, theta=1e-8):\n",
        "    V = np.zeros(env.nS)\n",
        "    \n",
        "    ## Done: complete the function\n",
        "    delta = 1 + theta\n",
        "    while delta > theta:\n",
        "        delta = 0\n",
        "        for s in range(env.nS):\n",
        "            v = 0\n",
        "            for a in range(env.nA):\n",
        "                v += sum([policy[s, a] * trans_prob * (reward + gamma * V[s_next])\n",
        "                          for trans_prob, s_next, reward, _ in env.P[s][a]])\n",
        "            delta = max(delta, v - V[s])\n",
        "            V[s] = v\n",
        "    return V"
      ],
      "execution_count": 0,
      "outputs": []
    },
    {
      "metadata": {
        "id": "mGJmwGEibRCq",
        "colab_type": "text"
      },
      "cell_type": "markdown",
      "source": [
        "We will evaluate the equiprobable random policy $\\pi$, where $\\pi(a|s) = \\frac{1}{|\\mathcal{A}(s)|}$ for all $s\\in\\mathcal{S}$ and $a\\in\\mathcal{A}(s)$.  \n",
        "\n",
        "Use the code cell below to specify this policy in the variable `random_policy`."
      ]
    },
    {
      "metadata": {
        "id": "rwJ5pUo5bRCr",
        "colab_type": "code",
        "colab": {}
      },
      "cell_type": "code",
      "source": [
        "random_policy = np.ones([env.nS, env.nA]) / env.nA"
      ],
      "execution_count": 0,
      "outputs": []
    },
    {
      "metadata": {
        "id": "pyymhwVHbRCs",
        "colab_type": "text"
      },
      "cell_type": "markdown",
      "source": [
        "Run the next code cell to evaluate the equiprobable random policy and visualize the output.  The state-value function has been reshaped to match the shape of the gridworld."
      ]
    },
    {
      "metadata": {
        "id": "EBB0QvKAbRCt",
        "colab_type": "code",
        "colab": {
          "base_uri": "https://localhost:8080/",
          "height": 389
        },
        "outputId": "9dbd375c-0260-4d33-eb45-e6970c1f8bfc"
      },
      "cell_type": "code",
      "source": [
        "# evaluate the policy \n",
        "V = policy_evaluation(env, random_policy)\n",
        "\n",
        "plot_values(V)"
      ],
      "execution_count": 7,
      "outputs": [
        {
          "output_type": "display_data",
          "data": {
            "image/png": "[encoded data removed]",
            "text/plain": [
              "<matplotlib.figure.Figure at 0x7f6cea148ef0>"
            ]
          },
          "metadata": {
            "tags": []
          }
        }
      ]
    },
    {
      "metadata": {
        "id": "hF5QIDalbRCu",
        "colab_type": "text"
      },
      "cell_type": "markdown",
      "source": [
        "Run the code cell below to test your function.  If the code cell returns **PASSED**, then you have implemented the function correctly!  \n",
        "\n",
        "**Note:** In order to ensure accurate results, make sure that your `policy_evaluation` function satisfies the requirements outlined above (with four inputs, a single output, and with the default values of the input arguments unchanged)."
      ]
    },
    {
      "metadata": {
        "id": "-CIzWZDGbRCv",
        "colab_type": "code",
        "colab": {
          "base_uri": "https://localhost:8080/",
          "height": 51
        },
        "outputId": "a55e71d5-1995-4f2c-be3a-7c83879857a5"
      },
      "cell_type": "code",
      "source": [
        "check_test.run_check('policy_evaluation_check', policy_evaluation)"
      ],
      "execution_count": 8,
      "outputs": [
        {
          "output_type": "display_data",
          "data": {
            "text/markdown": "**<span style=\"color: green;\">PASSED</span>**",
            "text/plain": [
              "<IPython.core.display.Markdown object>"
            ]
          },
          "metadata": {
            "tags": []
          }
        }
      ]
    },
    {
      "metadata": {
        "id": "eQSCgh_9bRCx",
        "colab_type": "text"
      },
      "cell_type": "markdown",
      "source": [
        "### Part 2: Obtain $q_\\pi$ from $v_\\pi$\n",
        "\n",
        "In this section, you will write a function that takes the state-value function estimate as input, along with some state $s\\in\\mathcal{S}$.  It returns the **row in the action-value function** corresponding to the input state $s\\in\\mathcal{S}$.  That is, your function should accept as input both $v_\\pi$ and $s$, and return $q_\\pi(s,a)$ for all $a\\in\\mathcal{A}(s)$.\n",
        "\n",
        "Your algorithm should accept four arguments as **input**:\n",
        "- `env`: This is an instance of an OpenAI Gym environment, where `env.P` returns the one-step dynamics.\n",
        "- `V`: This is a 1D numpy array with `V.shape[0]` equal to the number of states (`env.nS`).  `V[s]` contains the estimated value of state `s`.\n",
        "- `s`: This is an integer corresponding to a state in the environment.  It should be a value between `0` and `(env.nS)-1`, inclusive.\n",
        "- `gamma`: This is the discount rate.  It must be a value between 0 and 1, inclusive (default value: `1`).\n",
        "\n",
        "The algorithm returns as **output**:\n",
        "- `q`: This is a 1D numpy array with `q.shape[0]` equal to the number of actions (`env.nA`).  `q[a]` contains the (estimated) value of state `s` and action `a`.\n",
        "\n",
        "Please complete the function in the code cell below."
      ]
    },
    {
      "metadata": {
        "id": "JcmguecAbRCx",
        "colab_type": "code",
        "colab": {}
      },
      "cell_type": "code",
      "source": [
        "def q_from_v(env, V, s, gamma=1):\n",
        "    q = np.zeros(env.nA)\n",
        "    \n",
        "    ## Done: complete the function\n",
        "    for a in range(env.nA):\n",
        "        q[a] = sum([trans_prob * (reward + gamma * V[s_next])\n",
        "                    for trans_prob, s_next, reward, _ in env.P[s][a]])\n",
        "    return q"
      ],
      "execution_count": 0,
      "outputs": []
    },
    {
      "metadata": {
        "id": "G25XjskmbRCy",
        "colab_type": "text"
      },
      "cell_type": "markdown",
      "source": [
        "Run the code cell below to print the action-value function corresponding to the above state-value function."
      ]
    },
    {
      "metadata": {
        "id": "ezGiWKkGbRCz",
        "colab_type": "code",
        "colab": {
          "base_uri": "https://localhost:8080/",
          "height": 323
        },
        "outputId": "0d9a07e6-9391-49b8-c6fb-7bbc59bd0be3"
      },
      "cell_type": "code",
      "source": [
        "Q = np.zeros([env.nS, env.nA])\n",
        "for s in range(env.nS):\n",
        "    Q[s] = q_from_v(env, V, s)\n",
        "print(\"Action-Value Function:\")\n",
        "print(Q)"
      ],
      "execution_count": 10,
      "outputs": [
        {
          "output_type": "stream",
          "text": [
            "Action-Value Function:\n",
            "[[0.0147094  0.01393978 0.01393978 0.01317015]\n",
            " [0.00852356 0.01163091 0.0108613  0.01550788]\n",
            " [0.02444514 0.02095298 0.02406033 0.01435346]\n",
            " [0.01047649 0.01047649 0.00698432 0.01396865]\n",
            " [0.02166487 0.01701828 0.01624865 0.01006281]\n",
            " [0.         0.         0.         0.        ]\n",
            " [0.05433538 0.04735105 0.05433538 0.00698432]\n",
            " [0.         0.         0.         0.        ]\n",
            " [0.01701828 0.04099204 0.03480619 0.04640826]\n",
            " [0.07020885 0.11755991 0.10595784 0.05895312]\n",
            " [0.18940421 0.17582037 0.16001424 0.04297382]\n",
            " [0.         0.         0.         0.        ]\n",
            " [0.         0.         0.         0.        ]\n",
            " [0.08799677 0.20503718 0.23442716 0.17582037]\n",
            " [0.25238823 0.53837051 0.52711478 0.43929118]\n",
            " [0.         0.         0.         0.        ]]\n"
          ],
          "name": "stdout"
        }
      ]
    },
    {
      "metadata": {
        "id": "6HD44u3NbRC0",
        "colab_type": "text"
      },
      "cell_type": "markdown",
      "source": [
        "Run the code cell below to test your function.  If the code cell returns **PASSED**, then you have implemented the function correctly!  \n",
        "\n",
        "**Note:** In order to ensure accurate results, make sure that the `q_from_v` function satisfies the requirements outlined above (with four inputs, a single output, and with the default values of the input arguments unchanged)."
      ]
    },
    {
      "metadata": {
        "id": "ZqUY6g8qbRC0",
        "colab_type": "code",
        "colab": {
          "base_uri": "https://localhost:8080/",
          "height": 51
        },
        "outputId": "515cea5f-3bf2-409e-dc1a-2e767d25c4de"
      },
      "cell_type": "code",
      "source": [
        "check_test.run_check('q_from_v_check', q_from_v)"
      ],
      "execution_count": 11,
      "outputs": [
        {
          "output_type": "display_data",
          "data": {
            "text/markdown": "**<span style=\"color: green;\">PASSED</span>**",
            "text/plain": [
              "<IPython.core.display.Markdown object>"
            ]
          },
          "metadata": {
            "tags": []
          }
        }
      ]
    },
    {
      "metadata": {
        "id": "ajLSn961bRC2",
        "colab_type": "text"
      },
      "cell_type": "markdown",
      "source": [
        "### Part 3: Policy Improvement\n",
        "\n",
        "In this section, you will write your own implementation of policy improvement. \n",
        "\n",
        "Your algorithm should accept three arguments as **input**:\n",
        "- `env`: This is an instance of an OpenAI Gym environment, where `env.P` returns the one-step dynamics.\n",
        "- `V`: This is a 1D numpy array with `V.shape[0]` equal to the number of states (`env.nS`).  `V[s]` contains the estimated value of state `s`.\n",
        "- `gamma`: This is the discount rate.  It must be a value between 0 and 1, inclusive (default value: `1`).\n",
        "\n",
        "The algorithm returns as **output**:\n",
        "- `policy`: This is a 2D numpy array with `policy.shape[0]` equal to the number of states (`env.nS`), and `policy.shape[1]` equal to the number of actions (`env.nA`).  `policy[s][a]` returns the probability that the agent takes action `a` while in state `s` under the policy.\n",
        "\n",
        "Please complete the function in the code cell below.  You are encouraged to use the `q_from_v` function you implemented above."
      ]
    },
    {
      "metadata": {
        "id": "GYrA2u_LbRC2",
        "colab_type": "code",
        "colab": {}
      },
      "cell_type": "code",
      "source": [
        "def policy_improvement(env, V, gamma=1):\n",
        "    policy = np.zeros([env.nS, env.nA]) / env.nA\n",
        "    \n",
        "    ## Done: complete the function\n",
        "    for s in range(env.nS):\n",
        "        q = q_from_v(env, V, s, gamma)\n",
        "        best_actions = np.argwhere(q == np.max(q))\n",
        "        policy[s, best_actions] = 1/len(best_actions)\n",
        "        \n",
        "    return policy"
      ],
      "execution_count": 0,
      "outputs": []
    },
    {
      "metadata": {
        "id": "RPRYTVx2bRC3",
        "colab_type": "text"
      },
      "cell_type": "markdown",
      "source": [
        "Run the code cell below to test your function.  If the code cell returns **PASSED**, then you have implemented the function correctly!  \n",
        "\n",
        "**Note:** In order to ensure accurate results, make sure that the `policy_improvement` function satisfies the requirements outlined above (with three inputs, a single output, and with the default values of the input arguments unchanged).\n",
        "\n",
        "Before moving on to the next part of the notebook, you are strongly encouraged to check out the solution in **Dynamic_Programming_Solution.ipynb**.  There are many correct ways to approach this function!"
      ]
    },
    {
      "metadata": {
        "id": "Welwd_xGbRC3",
        "colab_type": "code",
        "colab": {
          "base_uri": "https://localhost:8080/",
          "height": 51
        },
        "outputId": "3c2b1b38-da48-461a-c980-dbeac7e5bbd1"
      },
      "cell_type": "code",
      "source": [
        "check_test.run_check('policy_improvement_check', policy_improvement)"
      ],
      "execution_count": 13,
      "outputs": [
        {
          "output_type": "display_data",
          "data": {
            "text/markdown": "**<span style=\"color: green;\">PASSED</span>**",
            "text/plain": [
              "<IPython.core.display.Markdown object>"
            ]
          },
          "metadata": {
            "tags": []
          }
        }
      ]
    },
    {
      "metadata": {
        "id": "3C2QOkpQbRC4",
        "colab_type": "text"
      },
      "cell_type": "markdown",
      "source": [
        "### Part 4: Policy Iteration\n",
        "\n",
        "In this section, you will write your own implementation of policy iteration.  The algorithm returns the optimal policy, along with its corresponding state-value function.\n",
        "\n",
        "Your algorithm should accept three arguments as **input**:\n",
        "- `env`: This is an instance of an OpenAI Gym environment, where `env.P` returns the one-step dynamics.\n",
        "- `gamma`: This is the discount rate.  It must be a value between 0 and 1, inclusive (default value: `1`).\n",
        "- `theta`: This is a very small positive number that is used to decide if the policy evaluation step has sufficiently converged to the true value function (default value: `1e-8`).\n",
        "\n",
        "The algorithm returns as **output**:\n",
        "- `policy`: This is a 2D numpy array with `policy.shape[0]` equal to the number of states (`env.nS`), and `policy.shape[1]` equal to the number of actions (`env.nA`).  `policy[s][a]` returns the probability that the agent takes action `a` while in state `s` under the policy.\n",
        "- `V`: This is a 1D numpy array with `V.shape[0]` equal to the number of states (`env.nS`).  `V[s]` contains the estimated value of state `s`.\n",
        "\n",
        "Please complete the function in the code cell below.  You are strongly encouraged to use the `policy_evaluation` and `policy_improvement` functions you implemented above."
      ]
    },
    {
      "metadata": {
        "id": "etHjJAdCbRC5",
        "colab_type": "code",
        "colab": {}
      },
      "cell_type": "code",
      "source": [
        "def policy_iteration(env, gamma=1, theta=1e-8):\n",
        "    policy = np.ones([env.nS, env.nA]) / env.nA\n",
        "    \n",
        "    ## Done: complete the function\n",
        "    old_policy = np.zeros_like(policy)\n",
        "    while (old_policy != policy).any():\n",
        "        old_policy = policy.copy()\n",
        "        V = policy_evaluation(env, policy, gamma, theta)\n",
        "        policy = policy_improvement(env, V, gamma)\n",
        "    \n",
        "    return policy, V"
      ],
      "execution_count": 0,
      "outputs": []
    },
    {
      "metadata": {
        "id": "DVkQew0dbRC6",
        "colab_type": "text"
      },
      "cell_type": "markdown",
      "source": [
        "Run the next code cell to solve the MDP and visualize the output.  The optimal state-value function has been reshaped to match the shape of the gridworld.\n",
        "\n",
        "**Compare the optimal state-value function to the state-value function from Part 1 of this notebook**.  _Is the optimal state-value function consistently greater than or equal to the state-value function for the equiprobable random policy?_"
      ]
    },
    {
      "metadata": {
        "id": "6Z3daDY8bRC6",
        "colab_type": "code",
        "colab": {
          "base_uri": "https://localhost:8080/",
          "height": 712
        },
        "outputId": "b91babbf-1dbf-4e5e-a6f0-ce4809524629"
      },
      "cell_type": "code",
      "source": [
        "# obtain the optimal policy and optimal state-value function\n",
        "policy_pi, V_pi = policy_iteration(env)\n",
        "\n",
        "# print the optimal policy\n",
        "print(\"\\nOptimal Policy (LEFT = 0, DOWN = 1, RIGHT = 2, UP = 3):\")\n",
        "print(policy_pi,\"\\n\")\n",
        "\n",
        "plot_values(V_pi)"
      ],
      "execution_count": 15,
      "outputs": [
        {
          "output_type": "stream",
          "text": [
            "\n",
            "Optimal Policy (LEFT = 0, DOWN = 1, RIGHT = 2, UP = 3):\n",
            "[[1.   0.   0.   0.  ]\n",
            " [0.   0.   0.   1.  ]\n",
            " [0.   0.   0.   1.  ]\n",
            " [0.   0.   0.   1.  ]\n",
            " [1.   0.   0.   0.  ]\n",
            " [0.25 0.25 0.25 0.25]\n",
            " [0.5  0.   0.5  0.  ]\n",
            " [0.25 0.25 0.25 0.25]\n",
            " [0.   0.   0.   1.  ]\n",
            " [0.   1.   0.   0.  ]\n",
            " [1.   0.   0.   0.  ]\n",
            " [0.25 0.25 0.25 0.25]\n",
            " [0.25 0.25 0.25 0.25]\n",
            " [0.   0.   1.   0.  ]\n",
            " [0.   1.   0.   0.  ]\n",
            " [0.25 0.25 0.25 0.25]] \n",
            "\n"
          ],
          "name": "stdout"
        },
        {
          "output_type": "display_data",
          "data": {
            "image/png": "[encoded data removed]",
            "text/plain": [
              "<matplotlib.figure.Figure at 0x7f6ce80fc9b0>"
            ]
          },
          "metadata": {
            "tags": []
          }
        }
      ]
    },
    {
      "metadata": {
        "id": "6vTdJAcKbRC8",
        "colab_type": "text"
      },
      "cell_type": "markdown",
      "source": [
        "Run the code cell below to test your function.  If the code cell returns **PASSED**, then you have implemented the function correctly!  \n",
        "\n",
        "**Note:** In order to ensure accurate results, make sure that the `policy_iteration` function satisfies the requirements outlined above (with three inputs, two outputs, and with the default values of the input arguments unchanged)."
      ]
    },
    {
      "metadata": {
        "id": "4p4o9tv4bRC8",
        "colab_type": "code",
        "colab": {
          "base_uri": "https://localhost:8080/",
          "height": 51
        },
        "outputId": "32e2d389-c5c2-4fe0-9a8f-e7f4f5201b68"
      },
      "cell_type": "code",
      "source": [
        "check_test.run_check('policy_iteration_check', policy_iteration)"
      ],
      "execution_count": 16,
      "outputs": [
        {
          "output_type": "display_data",
          "data": {
            "text/markdown": "**<span style=\"color: green;\">PASSED</span>**",
            "text/plain": [
              "<IPython.core.display.Markdown object>"
            ]
          },
          "metadata": {
            "tags": []
          }
        }
      ]
    },
    {
      "metadata": {
        "id": "aJAjBJvQbRC-",
        "colab_type": "text"
      },
      "cell_type": "markdown",
      "source": [
        "### Part 5: Truncated Policy Iteration\n",
        "\n",
        "In this section, you will write your own implementation of truncated policy iteration.  \n",
        "\n",
        "You will begin by implementing truncated policy evaluation.  Your algorithm should accept five arguments as **input**:\n",
        "- `env`: This is an instance of an OpenAI Gym environment, where `env.P` returns the one-step dynamics.\n",
        "- `policy`: This is a 2D numpy array with `policy.shape[0]` equal to the number of states (`env.nS`), and `policy.shape[1]` equal to the number of actions (`env.nA`).  `policy[s][a]` returns the probability that the agent takes action `a` while in state `s` under the policy.\n",
        "- `V`: This is a 1D numpy array with `V.shape[0]` equal to the number of states (`env.nS`).  `V[s]` contains the estimated value of state `s`.\n",
        "- `max_it`: This is a positive integer that corresponds to the number of sweeps through the state space (default value: `1`).\n",
        "- `gamma`: This is the discount rate.  It must be a value between 0 and 1, inclusive (default value: `1`).\n",
        "\n",
        "The algorithm returns as **output**:\n",
        "- `V`: This is a 1D numpy array with `V.shape[0]` equal to the number of states (`env.nS`).  `V[s]` contains the estimated value of state `s`.\n",
        "\n",
        "Please complete the function in the code cell below."
      ]
    },
    {
      "metadata": {
        "id": "XLfIFssvbRC-",
        "colab_type": "code",
        "colab": {}
      },
      "cell_type": "code",
      "source": [
        "def truncated_policy_evaluation(env, policy, V, max_it=1, gamma=1):\n",
        "    \n",
        "    ## Done: complete the function\n",
        "    for _ in range(max_it):\n",
        "        for s in range(env.nS):\n",
        "            v = 0\n",
        "            for a in range(env.nA):\n",
        "                v += sum([policy[s, a] * trans_prob * (reward + gamma * V[s_next])\n",
        "                          for trans_prob, s_next, reward, _ in env.P[s][a]])\n",
        "            V[s] = v\n",
        "                \n",
        "    return V"
      ],
      "execution_count": 0,
      "outputs": []
    },
    {
      "metadata": {
        "id": "6ApNRPidbRDA",
        "colab_type": "text"
      },
      "cell_type": "markdown",
      "source": [
        "Next, you will implement truncated policy iteration.  Your algorithm should accept five arguments as **input**:\n",
        "- `env`: This is an instance of an OpenAI Gym environment, where `env.P` returns the one-step dynamics.\n",
        "- `max_it`: This is a positive integer that corresponds to the number of sweeps through the state space (default value: `1`).\n",
        "- `gamma`: This is the discount rate.  It must be a value between 0 and 1, inclusive (default value: `1`).\n",
        "- `theta`: This is a very small positive number that is used for the stopping criterion (default value: `1e-8`).\n",
        "\n",
        "The algorithm returns as **output**:\n",
        "- `policy`: This is a 2D numpy array with `policy.shape[0]` equal to the number of states (`env.nS`), and `policy.shape[1]` equal to the number of actions (`env.nA`).  `policy[s][a]` returns the probability that the agent takes action `a` while in state `s` under the policy.\n",
        "- `V`: This is a 1D numpy array with `V.shape[0]` equal to the number of states (`env.nS`).  `V[s]` contains the estimated value of state `s`.\n",
        "\n",
        "Please complete the function in the code cell below."
      ]
    },
    {
      "metadata": {
        "id": "QCrqtDWwbRDA",
        "colab_type": "code",
        "colab": {}
      },
      "cell_type": "code",
      "source": [
        "def truncated_policy_iteration(env, max_it=1, gamma=1, theta=1e-8):\n",
        "    V = np.zeros(env.nS)\n",
        "    policy = np.ones([env.nS, env.nA]) / env.nA\n",
        "    \n",
        "    ## Done: complete the function\n",
        "    old_policy = np.zeros_like(policy)\n",
        "    while (old_policy != policy).any():\n",
        "        old_policy = policy.copy()\n",
        "        V = truncated_policy_evaluation(env, policy, V, max_it, gamma)\n",
        "        policy = policy_improvement(env, V, gamma)\n",
        "    \n",
        "    return policy, V"
      ],
      "execution_count": 0,
      "outputs": []
    },
    {
      "metadata": {
        "id": "X-ygNq2rbRDB",
        "colab_type": "text"
      },
      "cell_type": "markdown",
      "source": [
        "Run the next code cell to solve the MDP and visualize the output.  The state-value function has been reshaped to match the shape of the gridworld.\n",
        "\n",
        "Play with the value of the `max_it` argument.  Do you always end with the optimal state-value function?"
      ]
    },
    {
      "metadata": {
        "id": "t5EN8cNwbRDB",
        "colab_type": "code",
        "colab": {
          "base_uri": "https://localhost:8080/",
          "height": 712
        },
        "outputId": "f2911ac1-8a34-4778-d421-8aa723522d95"
      },
      "cell_type": "code",
      "source": [
        "policy_tpi, V_tpi = truncated_policy_iteration(env, max_it=100)\n",
        "\n",
        "# print the optimal policy\n",
        "print(\"\\nOptimal Policy (LEFT = 0, DOWN = 1, RIGHT = 2, UP = 3):\")\n",
        "print(policy_tpi,\"\\n\")\n",
        "\n",
        "# plot the optimal state-value function\n",
        "plot_values(V_tpi)"
      ],
      "execution_count": 19,
      "outputs": [
        {
          "output_type": "stream",
          "text": [
            "\n",
            "Optimal Policy (LEFT = 0, DOWN = 1, RIGHT = 2, UP = 3):\n",
            "[[1.   0.   0.   0.  ]\n",
            " [0.   0.   0.   1.  ]\n",
            " [0.   0.   0.   1.  ]\n",
            " [0.   0.   0.   1.  ]\n",
            " [1.   0.   0.   0.  ]\n",
            " [0.25 0.25 0.25 0.25]\n",
            " [0.5  0.   0.5  0.  ]\n",
            " [0.25 0.25 0.25 0.25]\n",
            " [0.   0.   0.   1.  ]\n",
            " [0.   1.   0.   0.  ]\n",
            " [1.   0.   0.   0.  ]\n",
            " [0.25 0.25 0.25 0.25]\n",
            " [0.25 0.25 0.25 0.25]\n",
            " [0.   0.   1.   0.  ]\n",
            " [0.   1.   0.   0.  ]\n",
            " [0.25 0.25 0.25 0.25]] \n",
            "\n"
          ],
          "name": "stdout"
        },
        {
          "output_type": "display_data",
          "data": {
            "image/png": "[encoded data removed]",
            "text/plain": [
              "<matplotlib.figure.Figure at 0x7f6ce8008048>"
            ]
          },
          "metadata": {
            "tags": []
          }
        }
      ]
    },
    {
      "metadata": {
        "id": "CezekSkmbRDC",
        "colab_type": "text"
      },
      "cell_type": "markdown",
      "source": [
        "Run the code cell below to test your function.  If the code cell returns **PASSED**, then you have implemented the function correctly!  \n",
        "\n",
        "**Note:** In order to ensure accurate results, make sure that the `truncated_policy_iteration` function satisfies the requirements outlined above (with four inputs, two outputs, and with the default values of the input arguments unchanged)."
      ]
    },
    {
      "metadata": {
        "id": "u_GwaM_ebRDD",
        "colab_type": "code",
        "colab": {
          "base_uri": "https://localhost:8080/",
          "height": 51
        },
        "outputId": "63da8328-44bd-497e-d03d-5e2ab72cddd0"
      },
      "cell_type": "code",
      "source": [
        "check_test.run_check('truncated_policy_iteration_check', truncated_policy_iteration)"
      ],
      "execution_count": 20,
      "outputs": [
        {
          "output_type": "display_data",
          "data": {
            "text/markdown": "**<span style=\"color: red;\">PLEASE TRY AGAIN</span>**",
            "text/plain": [
              "<IPython.core.display.Markdown object>"
            ]
          },
          "metadata": {
            "tags": []
          }
        }
      ]
    },
    {
      "metadata": {
        "id": "LftGKJvnbRDE",
        "colab_type": "text"
      },
      "cell_type": "markdown",
      "source": [
        "### Part 6: Value Iteration\n",
        "\n",
        "In this section, you will write your own implementation of value iteration.\n",
        "\n",
        "Your algorithm should accept three arguments as input:\n",
        "- `env`: This is an instance of an OpenAI Gym environment, where `env.P` returns the one-step dynamics.\n",
        "- `gamma`: This is the discount rate.  It must be a value between 0 and 1, inclusive (default value: `1`).\n",
        "- `theta`: This is a very small positive number that is used for the stopping criterion (default value: `1e-8`).\n",
        "\n",
        "The algorithm returns as **output**:\n",
        "- `policy`: This is a 2D numpy array with `policy.shape[0]` equal to the number of states (`env.nS`), and `policy.shape[1]` equal to the number of actions (`env.nA`).  `policy[s][a]` returns the probability that the agent takes action `a` while in state `s` under the policy.\n",
        "- `V`: This is a 1D numpy array with `V.shape[0]` equal to the number of states (`env.nS`).  `V[s]` contains the estimated value of state `s`."
      ]
    },
    {
      "metadata": {
        "id": "H5oHYcd_bRDE",
        "colab_type": "code",
        "colab": {}
      },
      "cell_type": "code",
      "source": [
        "def value_iteration(env, gamma=1, theta=1e-8):\n",
        "    V = np.zeros(env.nS)\n",
        "    \n",
        "    ## Done: complete the function\n",
        "    delta = 1 + theta\n",
        "    while delta > theta:\n",
        "        delta = 0\n",
        "        for s in range(env.nS):\n",
        "            v = np.max([np.sum([trans_prob * (reward + gamma * V[s_next]) \n",
        "                                for trans_prob, s_next, reward, _ in env.P[s][a]])\n",
        "                        for a in range(env.nA)])\n",
        "            delta = max(delta, np.abs(V[s] - v))\n",
        "            V[s] = v\n",
        "    \n",
        "    policy = policy_improvement(env, V, gamma)\n",
        "    return policy, V"
      ],
      "execution_count": 0,
      "outputs": []
    },
    {
      "metadata": {
        "id": "uzeuV1UxbRDF",
        "colab_type": "text"
      },
      "cell_type": "markdown",
      "source": [
        "Use the next code cell to solve the MDP and visualize the output.  The state-value function has been reshaped to match the shape of the gridworld."
      ]
    },
    {
      "metadata": {
        "id": "PmTc_RxNbRDG",
        "colab_type": "code",
        "colab": {
          "base_uri": "https://localhost:8080/",
          "height": 712
        },
        "outputId": "846f7b18-a16e-457c-d20e-d53649dc4315"
      },
      "cell_type": "code",
      "source": [
        "policy_vi, V_vi = value_iteration(env)\n",
        "\n",
        "# print the optimal policy\n",
        "print(\"\\nOptimal Policy (LEFT = 0, DOWN = 1, RIGHT = 2, UP = 3):\")\n",
        "print(policy_vi,\"\\n\")\n",
        "\n",
        "# plot the optimal state-value function\n",
        "plot_values(V_vi)"
      ],
      "execution_count": 22,
      "outputs": [
        {
          "output_type": "stream",
          "text": [
            "\n",
            "Optimal Policy (LEFT = 0, DOWN = 1, RIGHT = 2, UP = 3):\n",
            "[[1.   0.   0.   0.  ]\n",
            " [0.   0.   0.   1.  ]\n",
            " [0.   0.   0.   1.  ]\n",
            " [0.   0.   0.   1.  ]\n",
            " [1.   0.   0.   0.  ]\n",
            " [0.25 0.25 0.25 0.25]\n",
            " [0.5  0.   0.5  0.  ]\n",
            " [0.25 0.25 0.25 0.25]\n",
            " [0.   0.   0.   1.  ]\n",
            " [0.   1.   0.   0.  ]\n",
            " [1.   0.   0.   0.  ]\n",
            " [0.25 0.25 0.25 0.25]\n",
            " [0.25 0.25 0.25 0.25]\n",
            " [0.   0.   1.   0.  ]\n",
            " [0.   1.   0.   0.  ]\n",
            " [0.25 0.25 0.25 0.25]] \n",
            "\n"
          ],
          "name": "stdout"
        },
        {
          "output_type": "display_data",
          "data": {
            "image/png": "[encoded data removed]",
            "text/plain": [
              "<matplotlib.figure.Figure at 0x7f6ce7f73fd0>"
            ]
          },
          "metadata": {
            "tags": []
          }
        }
      ]
    },
    {
      "metadata": {
        "id": "2ryzh6ECbRDH",
        "colab_type": "text"
      },
      "cell_type": "markdown",
      "source": [
        "Run the code cell below to test your function.  If the code cell returns **PASSED**, then you have implemented the function correctly!  \n",
        "\n",
        "**Note:** In order to ensure accurate results, make sure that the `value_iteration` function satisfies the requirements outlined above (with three inputs, two outputs, and with the default values of the input arguments unchanged)."
      ]
    },
    {
      "metadata": {
        "id": "rIwR7wmobRDH",
        "colab_type": "code",
        "colab": {
          "base_uri": "https://localhost:8080/",
          "height": 51
        },
        "outputId": "1f39d06d-b50e-469a-cdff-517ab35bddef"
      },
      "cell_type": "code",
      "source": [
        "check_test.run_check('value_iteration_check', value_iteration)"
      ],
      "execution_count": 23,
      "outputs": [
        {
          "output_type": "display_data",
          "data": {
            "text/markdown": "**<span style=\"color: green;\">PASSED</span>**",
            "text/plain": [
              "<IPython.core.display.Markdown object>"
            ]
          },
          "metadata": {
            "tags": []
          }
        }
      ]
    }
  ]
}